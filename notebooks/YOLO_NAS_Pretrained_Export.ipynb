{
  "cells": [
    {
      "cell_type": "markdown",
      "metadata": {
        "id": "view-in-github",
        "colab_type": "text"
      },
      "source": [
        "<a href=\"https://colab.research.google.com/github/ThomasCr/lc709203f/blob/main/notebooks/YOLO_NAS_Pretrained_Export.ipynb\" target=\"_parent\"><img src=\"https://colab.research.google.com/assets/colab-badge.svg\" alt=\"Open In Colab\"/></a>"
      ]
    },
    {
      "cell_type": "code",
      "execution_count": 6,
      "metadata": {
        "id": "rmuF9iKWTbdk",
        "outputId": "32b4053c-11c2-4d99-8d4b-ed54076a147d",
        "colab": {
          "base_uri": "https://localhost:8080/"
        }
      },
      "outputs": [
        {
          "output_type": "stream",
          "name": "stdout",
          "text": [
            "  Installing build dependencies ... \u001b[?25l\u001b[?25hdone\n",
            "  Getting requirements to build wheel ... \u001b[?25l\u001b[?25hdone\n",
            "  Preparing metadata (pyproject.toml) ... \u001b[?25l\u001b[?25hdone\n"
          ]
        }
      ],
      "source": [
        "! pip install -q git+https://github.com/Deci-AI/super-gradients.git"
      ]
    },
    {
      "cell_type": "code",
      "execution_count": 7,
      "metadata": {
        "id": "NiRCt917KKcL"
      },
      "outputs": [],
      "source": [
        "! sed -i 's/sghub.deci.ai/sg-hub-nv.s3.amazonaws.com/' /usr/local/lib/python3.11/dist-packages/super_gradients/training/pretrained_models.py\n",
        "! sed -i 's/sghub.deci.ai/sg-hub-nv.s3.amazonaws.com/' /usr/local/lib/python3.11/dist-packages/super_gradients/training/utils/checkpoint_utils.py"
      ]
    },
    {
      "cell_type": "code",
      "execution_count": 8,
      "metadata": {
        "id": "dTB0jy_NNSFz",
        "outputId": "5ce13d22-3f28-4c00-bf86-1c5595a25aab",
        "colab": {
          "base_uri": "https://localhost:8080/",
          "height": 129
        }
      },
      "outputs": [
        {
          "output_type": "display_data",
          "data": {
            "text/plain": [
              "\u001b[33mWARNING: :warning: The pre-trained models provided by SuperGradients may have their own licenses or terms and conditions derived from the dataset used for pre-training.\n",
              " It is your responsibility to determine whether you have permission to use the models for your use case.\n",
              " The model you have requested was pre-trained on the coco dataset, published under the following terms: https://cocodataset.org/#termsofuse\u001b[0m\u001b[33m\n",
              "\u001b[0m"
            ],
            "text/html": [
              "<pre style=\"white-space:pre;overflow-x:auto;line-height:normal;font-family:Menlo,'DejaVu Sans Mono',consolas,'Courier New',monospace\"><span style=\"color: #808000; text-decoration-color: #808000\">WARNING: :warning: The pre-trained models provided by SuperGradients may have their own licenses or terms and conditions derived from the dataset used for pre-training.\n",
              " It is your responsibility to determine whether you have permission to use the models for your use case.\n",
              " The model you have requested was pre-trained on the coco dataset, published under the following terms: https://cocodataset.org/#termsofuse\n",
              "</span></pre>\n"
            ]
          },
          "metadata": {}
        },
        {
          "output_type": "display_data",
          "data": {
            "text/plain": [
              "License Notification: YOLO-NAS pre-trained weights are subjected to the specific license terms and conditions detailed in\n",
              "https://github.com/Deci-AI/super-gradients/blob/master/LICENSE.YOLONAS.md\n",
              "By downloading the pre-trained weight files you agree to comply with these terms.\n"
            ],
            "text/html": [
              "<pre style=\"white-space:pre;overflow-x:auto;line-height:normal;font-family:Menlo,'DejaVu Sans Mono',consolas,'Courier New',monospace\">License Notification: YOLO-NAS pre-trained weights are subjected to the specific license terms and conditions detailed in\n",
              "https://github.com/Deci-AI/super-gradients/blob/master/LICENSE.YOLONAS.md\n",
              "By downloading the pre-trained weight files you agree to comply with these terms.\n",
              "</pre>\n"
            ]
          },
          "metadata": {}
        },
        {
          "output_type": "display_data",
          "data": {
            "text/plain": [
              "Successfully loaded pretrained weights for architecture yolo_nas_s\n"
            ],
            "text/html": [
              "<pre style=\"white-space:pre;overflow-x:auto;line-height:normal;font-family:Menlo,'DejaVu Sans Mono',consolas,'Courier New',monospace\">Successfully loaded pretrained weights for architecture yolo_nas_s\n",
              "</pre>\n"
            ]
          },
          "metadata": {}
        }
      ],
      "source": [
        "from super_gradients.common.object_names import Models\n",
        "from super_gradients.conversion import DetectionOutputFormatMode\n",
        "from super_gradients.training import models\n",
        "\n",
        "model = models.get(Models.YOLO_NAS_S, pretrained_weights=\"coco\")"
      ]
    },
    {
      "cell_type": "code",
      "execution_count": 9,
      "metadata": {
        "id": "GymUghyCNXem",
        "outputId": "8738b7f2-016c-4530-d55c-dd1cdf832f5e",
        "colab": {
          "base_uri": "https://localhost:8080/"
        }
      },
      "outputs": [
        {
          "output_type": "execute_result",
          "data": {
            "text/plain": [
              "Model exported successfully to yolo_nas_s.onnx\n",
              "Model expects input image of shape [1, 3, 640, 640]\n",
              "Input image dtype is torch.uint8\n",
              "Exported model already contains preprocessing (normalization) step, so you don't need to do it manually.\n",
              "Preprocessing steps to be applied to input image are:\n",
              "Sequential(\n",
              "  (0): CastTensorTo(dtype=torch.float32)\n",
              "  (1): ApplyMeanStd(mean=[0.], scale=[255.])\n",
              ")\n",
              "\n",
              "Exported model contains postprocessing (NMS) step with the following parameters:\n",
              "    num_pre_nms_predictions=300\n",
              "    max_predictions_per_image=20\n",
              "    nms_threshold=0.7\n",
              "    confidence_threshold=0.4\n",
              "    output_predictions_format=DetectionOutputFormatMode.FLAT_FORMAT\n",
              "\n",
              "Exported model is in ONNX format and can be used with ONNXRuntime\n",
              "To run inference with ONNXRuntime, please use the following code snippet:\n",
              "\n",
              "    import onnxruntime\n",
              "    import numpy as np\n",
              "    session = onnxruntime.InferenceSession(\"yolo_nas_s.onnx\", providers=[\"CUDAExecutionProvider\", \"CPUExecutionProvider\"])\n",
              "    inputs = [o.name for o in session.get_inputs()]\n",
              "    outputs = [o.name for o in session.get_outputs()]\n",
              "    example_input_image = np.zeros((1, 3, 640, 640)).astype(np.uint8)\n",
              "    predictions = session.run(outputs, {inputs[0]: example_input_image})\n",
              "\n",
              "Exported model has predictions in DetectionOutputFormatMode.FLAT_FORMAT format:\n",
              "\n",
              "    # flat_predictions is a 2D array of [N,7] shape\n",
              "    # Each row represents (image_index, x_min, y_min, x_max, y_max, confidence, class_id)\n",
              "    # Please note all values are floats, so you have to convert them to integers if needed\n",
              "    [flat_predictions] = predictions\n",
              "    for (_, x_min, y_min, x_max, y_max, confidence, class_id) in flat_predictions[0]:\n",
              "        class_id = int(class_id)\n",
              "        print(f\"Detected object with class_id={class_id}, confidence={confidence}, x_min={x_min}, y_min={y_min}, x_max={x_max}, y_max={y_max}\")"
            ]
          },
          "metadata": {},
          "execution_count": 9
        }
      ],
      "source": [
        "# export the model for compatibility with Frigate\n",
        "\n",
        "model.export(\"yolo_nas_s.onnx\",\n",
        "             output_predictions_format=DetectionOutputFormatMode.FLAT_FORMAT,\n",
        "             max_predictions_per_image=20,\n",
        "             num_pre_nms_predictions=300,\n",
        "             confidence_threshold=0.4,\n",
        "             input_image_shape=(640,640),\n",
        "            )"
      ]
    },
    {
      "cell_type": "code",
      "execution_count": 10,
      "metadata": {
        "id": "uBhXV5g4Nh42",
        "outputId": "2221df0b-b81a-40fc-de0c-c5d12f466337",
        "colab": {
          "base_uri": "https://localhost:8080/",
          "height": 34
        }
      },
      "outputs": [
        {
          "output_type": "display_data",
          "data": {
            "text/plain": [
              "<IPython.core.display.Javascript object>"
            ],
            "application/javascript": [
              "\n",
              "    async function download(id, filename, size) {\n",
              "      if (!google.colab.kernel.accessAllowed) {\n",
              "        return;\n",
              "      }\n",
              "      const div = document.createElement('div');\n",
              "      const label = document.createElement('label');\n",
              "      label.textContent = `Downloading \"${filename}\": `;\n",
              "      div.appendChild(label);\n",
              "      const progress = document.createElement('progress');\n",
              "      progress.max = size;\n",
              "      div.appendChild(progress);\n",
              "      document.body.appendChild(div);\n",
              "\n",
              "      const buffers = [];\n",
              "      let downloaded = 0;\n",
              "\n",
              "      const channel = await google.colab.kernel.comms.open(id);\n",
              "      // Send a message to notify the kernel that we're ready.\n",
              "      channel.send({})\n",
              "\n",
              "      for await (const message of channel.messages) {\n",
              "        // Send a message to notify the kernel that we're ready.\n",
              "        channel.send({})\n",
              "        if (message.buffers) {\n",
              "          for (const buffer of message.buffers) {\n",
              "            buffers.push(buffer);\n",
              "            downloaded += buffer.byteLength;\n",
              "            progress.value = downloaded;\n",
              "          }\n",
              "        }\n",
              "      }\n",
              "      const blob = new Blob(buffers, {type: 'application/binary'});\n",
              "      const a = document.createElement('a');\n",
              "      a.href = window.URL.createObjectURL(blob);\n",
              "      a.download = filename;\n",
              "      div.appendChild(a);\n",
              "      a.click();\n",
              "      div.remove();\n",
              "    }\n",
              "  "
            ]
          },
          "metadata": {}
        },
        {
          "output_type": "display_data",
          "data": {
            "text/plain": [
              "<IPython.core.display.Javascript object>"
            ],
            "application/javascript": [
              "download(\"download_49361059-77a7-4c1c-823f-aa275a08942e\", \"yolo_nas_s.onnx\", 48878935)"
            ]
          },
          "metadata": {}
        }
      ],
      "source": [
        "from google.colab import files\n",
        "\n",
        "files.download('yolo_nas_s.onnx')"
      ]
    }
  ],
  "metadata": {
    "colab": {
      "provenance": [],
      "include_colab_link": true
    },
    "kernelspec": {
      "display_name": "Python 3",
      "name": "python3"
    },
    "language_info": {
      "name": "python"
    }
  },
  "nbformat": 4,
  "nbformat_minor": 0
}